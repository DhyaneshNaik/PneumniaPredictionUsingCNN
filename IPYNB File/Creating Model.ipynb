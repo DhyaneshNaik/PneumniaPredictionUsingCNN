{
 "cells": [
  {
   "cell_type": "code",
   "execution_count": 24,
   "metadata": {},
   "outputs": [],
   "source": [
    "import numpy as np\n",
    "import pandas as pd\n",
    "import os\n",
    "import matplotlib.pyplot as plt\n",
    "%matplotlib inline\n",
    "\n",
    "import cv2\n",
    "import tensorflow as tf\n",
    "\n",
    "from sklearn.model_selection import train_test_split\n",
    "from tensorflow.keras.models import Sequential, load_model\n",
    "from tensorflow.keras.layers import Conv2D, MaxPooling2D, Activation, Flatten, Dense, Dropout, BatchNormalization\n",
    "from tensorflow.keras.utils import to_categorical\n",
    "from tensorflow.keras.optimizers import Adam\n",
    "from tensorflow.keras.callbacks import EarlyStopping\n",
    "from tensorflow.keras import regularizers\n",
    "from tensorflow.keras.preprocessing.image import ImageDataGenerator\n",
    "from tensorflow.keras.preprocessing import image\n",
    "from sklearn.metrics import classification_report,accuracy_score,confusion_matrix\n"
   ]
  },
  {
   "cell_type": "code",
   "execution_count": 2,
   "metadata": {},
   "outputs": [],
   "source": [
    "trainXdata = np.load('./training/trainingX.npy')\n",
    "trainYdata = np.load('./training/trainYdata.npy')\n",
    "testXdata = np.load('./testing/testXdata.npy')\n",
    "testYdata = np.load('./testing/testYdata.npy')"
   ]
  },
  {
   "cell_type": "code",
   "execution_count": 3,
   "metadata": {},
   "outputs": [],
   "source": [
    "#trainYdata = np.asarray(trainYdata).astype('float32').reshape((-1,1))\n",
    "#testYdata = np.asarray(testYdata).astype('float32').reshape((-1,1))"
   ]
  },
  {
   "cell_type": "code",
   "execution_count": 4,
   "metadata": {},
   "outputs": [
    {
     "data": {
      "text/plain": [
       "((5232, 150, 150, 1), (5232,))"
      ]
     },
     "execution_count": 4,
     "metadata": {},
     "output_type": "execute_result"
    }
   ],
   "source": [
    "trainXdata.shape, trainYdata.shape"
   ]
  },
  {
   "cell_type": "code",
   "execution_count": 5,
   "metadata": {},
   "outputs": [
    {
     "data": {
      "text/plain": [
       "((624, 150, 150, 1), (624,))"
      ]
     },
     "execution_count": 5,
     "metadata": {},
     "output_type": "execute_result"
    }
   ],
   "source": [
    "testXdata.shape, testYdata.shape"
   ]
  },
  {
   "cell_type": "code",
   "execution_count": 6,
   "metadata": {},
   "outputs": [],
   "source": [
    "img_size = 150"
   ]
  },
  {
   "cell_type": "code",
   "execution_count": 7,
   "metadata": {},
   "outputs": [],
   "source": [
    "X_train, X_test, Y_train, Y_test = train_test_split(trainXdata, trainYdata, test_size = 0.2, stratify = trainYdata,random_state=10)"
   ]
  },
  {
   "cell_type": "code",
   "execution_count": 8,
   "metadata": {},
   "outputs": [
    {
     "data": {
      "text/plain": [
       "((4185, 150, 150, 1), (4185,))"
      ]
     },
     "execution_count": 8,
     "metadata": {},
     "output_type": "execute_result"
    }
   ],
   "source": [
    "X_train.shape,  Y_train.shape"
   ]
  },
  {
   "cell_type": "code",
   "execution_count": 9,
   "metadata": {},
   "outputs": [
    {
     "data": {
      "text/plain": [
       "((1047, 150, 150, 1), (1047,))"
      ]
     },
     "execution_count": 9,
     "metadata": {},
     "output_type": "execute_result"
    }
   ],
   "source": [
    "X_test.shape, Y_test.shape"
   ]
  },
  {
   "cell_type": "code",
   "execution_count": 10,
   "metadata": {},
   "outputs": [],
   "source": [
    "model = Sequential()\n",
    "\n",
    "model.add(Conv2D(filters = 32,kernel_size = (3,3), kernel_initializer = 'he_normal', padding='same', activation ='relu', input_shape = X_train.shape[1:]))\n",
    "model.add(BatchNormalization())\n",
    "model.add(MaxPooling2D(pool_size=(2, 2),strides=(2, 2)))\n",
    "model.add(Dropout(0.3))\n",
    "\n",
    "model.add(Conv2D(filters = 64,kernel_size = (3,3), kernel_initializer = 'he_normal', padding='same', activation ='relu'))\n",
    "model.add(BatchNormalization())\n",
    "model.add(MaxPooling2D(pool_size=(2, 2),strides=(2, 2)))\n",
    "model.add(Dropout(0.25))\n",
    "MaxPooling2D\n",
    "model.add(Conv2D(filters = 128,kernel_size = (3,3), kernel_initializer = 'he_normal', padding='same', activation ='relu'))\n",
    "model.add(BatchNormalization())\n",
    "model.add(MaxPooling2D(pool_size=(2, 2),strides=(2, 2)))\n",
    "model.add(Dropout(0.25))\n",
    "\n",
    "model.add(Conv2D(filters = 256,kernel_size = (5,5), kernel_initializer = 'he_normal', padding='same', activation ='relu'))\n",
    "model.add(BatchNormalization())\n",
    "model.add(MaxPooling2D(pool_size=(2, 2),strides=(2, 2)))\n",
    "model.add(Dropout(0.25))\n",
    "\n",
    "#model.add(Conv2D(filters = 512,kernel_size = (3,3), kernel_initializer = 'he_normal', padding='same', activation ='relu'))\n",
    "#model.add(BatchNormalization())\n",
    "#model.add(MaxPooling2D(pool_size=(2, 2)))\n",
    "#model.add(Dropout(0.25))\n",
    "\n",
    "model.add(Flatten())\n",
    "\n",
    "model.add(Dense(128,activation ='relu'))\n",
    "model.add(Dropout(0.3))\n",
    "\n",
    "model.add(Dense(256,activation ='relu'))\n",
    "model.add(Dropout(0.5))\n",
    "\n",
    "model.add(Dense(1,activation ='sigmoid'))"
   ]
  },
  {
   "cell_type": "code",
   "execution_count": 11,
   "metadata": {},
   "outputs": [],
   "source": [
    "adam = Adam(lr=0.0005)"
   ]
  },
  {
   "cell_type": "code",
   "execution_count": 12,
   "metadata": {},
   "outputs": [
    {
     "name": "stdout",
     "output_type": "stream",
     "text": [
      "Model: \"sequential\"\n",
      "_________________________________________________________________\n",
      "Layer (type)                 Output Shape              Param #   \n",
      "=================================================================\n",
      "conv2d (Conv2D)              (None, 150, 150, 32)      320       \n",
      "_________________________________________________________________\n",
      "batch_normalization (BatchNo (None, 150, 150, 32)      128       \n",
      "_________________________________________________________________\n",
      "max_pooling2d (MaxPooling2D) (None, 75, 75, 32)        0         \n",
      "_________________________________________________________________\n",
      "dropout (Dropout)            (None, 75, 75, 32)        0         \n",
      "_________________________________________________________________\n",
      "conv2d_1 (Conv2D)            (None, 75, 75, 64)        18496     \n",
      "_________________________________________________________________\n",
      "batch_normalization_1 (Batch (None, 75, 75, 64)        256       \n",
      "_________________________________________________________________\n",
      "max_pooling2d_1 (MaxPooling2 (None, 37, 37, 64)        0         \n",
      "_________________________________________________________________\n",
      "dropout_1 (Dropout)          (None, 37, 37, 64)        0         \n",
      "_________________________________________________________________\n",
      "conv2d_2 (Conv2D)            (None, 37, 37, 128)       73856     \n",
      "_________________________________________________________________\n",
      "batch_normalization_2 (Batch (None, 37, 37, 128)       512       \n",
      "_________________________________________________________________\n",
      "max_pooling2d_2 (MaxPooling2 (None, 18, 18, 128)       0         \n",
      "_________________________________________________________________\n",
      "dropout_2 (Dropout)          (None, 18, 18, 128)       0         \n",
      "_________________________________________________________________\n",
      "conv2d_3 (Conv2D)            (None, 18, 18, 256)       819456    \n",
      "_________________________________________________________________\n",
      "batch_normalization_3 (Batch (None, 18, 18, 256)       1024      \n",
      "_________________________________________________________________\n",
      "max_pooling2d_3 (MaxPooling2 (None, 9, 9, 256)         0         \n",
      "_________________________________________________________________\n",
      "dropout_3 (Dropout)          (None, 9, 9, 256)         0         \n",
      "_________________________________________________________________\n",
      "flatten (Flatten)            (None, 20736)             0         \n",
      "_________________________________________________________________\n",
      "dense (Dense)                (None, 128)               2654336   \n",
      "_________________________________________________________________\n",
      "dropout_4 (Dropout)          (None, 128)               0         \n",
      "_________________________________________________________________\n",
      "dense_1 (Dense)              (None, 256)               33024     \n",
      "_________________________________________________________________\n",
      "dropout_5 (Dropout)          (None, 256)               0         \n",
      "_________________________________________________________________\n",
      "dense_2 (Dense)              (None, 1)                 257       \n",
      "=================================================================\n",
      "Total params: 3,601,665\n",
      "Trainable params: 3,600,705\n",
      "Non-trainable params: 960\n",
      "_________________________________________________________________\n"
     ]
    }
   ],
   "source": [
    "model.compile(optimizer = adam, loss = 'binary_crossentropy', metrics = ['accuracy'])\n",
    "model.summary()"
   ]
  },
  {
   "cell_type": "code",
   "execution_count": 13,
   "metadata": {},
   "outputs": [],
   "source": [
    "# With data augmentation to prevent overfitting and handling the imbalance in dataset\n",
    "\n",
    "datagen = ImageDataGenerator(\n",
    "        featurewise_center=False,  # set input mean to 0 over the dataset\n",
    "        samplewise_center=False,  # set each sample mean to 0\n",
    "        featurewise_std_normalization=False,  # divide inputs by std of the dataset\n",
    "        samplewise_std_normalization=False,  # divide each input by its std\n",
    "        zca_whitening=False,  # apply ZCA whitening\n",
    "        rotation_range = 30,  # randomly rotate images in the range (degrees, 0 to 180)\n",
    "        zoom_range = 0.2, # Randomly zoom image \n",
    "        width_shift_range=0.1,  # randomly shift images horizontally (fraction of total width)\n",
    "        height_shift_range=0.1,  # randomly shift images vertically (fraction of total height)\n",
    "        horizontal_flip = True,  # randomly flip images\n",
    "        vertical_flip=False    # randomly flip images\n",
    ")  \n",
    "\n",
    "\n",
    "datagen.fit(X_train)"
   ]
  },
  {
   "cell_type": "code",
   "execution_count": 14,
   "metadata": {},
   "outputs": [
    {
     "name": "stdout",
     "output_type": "stream",
     "text": [
      "Epoch 1/20\n",
      "131/131 [==============================] - 338s 3s/step - loss: 0.5367 - accuracy: 0.7986 - val_loss: 9.6903 - val_accuracy: 0.7421\n",
      "Epoch 2/20\n",
      "131/131 [==============================] - 337s 3s/step - loss: 0.3121 - accuracy: 0.8626 - val_loss: 15.2082 - val_accuracy: 0.7421\n",
      "Epoch 3/20\n",
      "131/131 [==============================] - 337s 3s/step - loss: 0.2908 - accuracy: 0.8877 - val_loss: 19.6074 - val_accuracy: 0.7421\n",
      "Epoch 4/20\n",
      "131/131 [==============================] - 337s 3s/step - loss: 0.2804 - accuracy: 0.8858 - val_loss: 5.6152 - val_accuracy: 0.7421\n",
      "Epoch 5/20\n",
      "131/131 [==============================] - 336s 3s/step - loss: 0.2735 - accuracy: 0.8858 - val_loss: 2.7782 - val_accuracy: 0.7536\n",
      "Epoch 6/20\n",
      "131/131 [==============================] - 337s 3s/step - loss: 0.2366 - accuracy: 0.9073 - val_loss: 2.4796 - val_accuracy: 0.7641\n",
      "Epoch 7/20\n",
      "131/131 [==============================] - 337s 3s/step - loss: 0.2244 - accuracy: 0.9092 - val_loss: 0.2154 - val_accuracy: 0.9398\n",
      "Epoch 8/20\n",
      "131/131 [==============================] - 336s 3s/step - loss: 0.2117 - accuracy: 0.9192 - val_loss: 0.2473 - val_accuracy: 0.9226\n",
      "Epoch 9/20\n",
      "131/131 [==============================] - 337s 3s/step - loss: 0.2261 - accuracy: 0.9152 - val_loss: 4.0094 - val_accuracy: 0.7421\n",
      "Epoch 10/20\n",
      "131/131 [==============================] - 337s 3s/step - loss: 0.2205 - accuracy: 0.9166 - val_loss: 0.2798 - val_accuracy: 0.9226\n",
      "Epoch 11/20\n",
      "131/131 [==============================] - 337s 3s/step - loss: 0.2115 - accuracy: 0.9200 - val_loss: 0.3814 - val_accuracy: 0.8863\n",
      "Epoch 12/20\n",
      "131/131 [==============================] - 337s 3s/step - loss: 0.2029 - accuracy: 0.9302 - val_loss: 0.4331 - val_accuracy: 0.8415\n",
      "Epoch 13/20\n",
      "131/131 [==============================] - 337s 3s/step - loss: 0.1899 - accuracy: 0.9283 - val_loss: 0.5465 - val_accuracy: 0.8797\n",
      "Epoch 14/20\n",
      "131/131 [==============================] - 338s 3s/step - loss: 0.1903 - accuracy: 0.9343 - val_loss: 1.1676 - val_accuracy: 0.7966\n",
      "Epoch 15/20\n",
      "131/131 [==============================] - 337s 3s/step - loss: 0.1771 - accuracy: 0.9331 - val_loss: 1.3237 - val_accuracy: 0.8329\n",
      "Epoch 16/20\n",
      "131/131 [==============================] - 337s 3s/step - loss: 0.1634 - accuracy: 0.9415 - val_loss: 0.5180 - val_accuracy: 0.9265\n",
      "Epoch 17/20\n",
      "131/131 [==============================] - 342s 3s/step - loss: 0.1600 - accuracy: 0.9481 - val_loss: 1.2751 - val_accuracy: 0.8281\n",
      "Epoch 18/20\n",
      "131/131 [==============================] - 338s 3s/step - loss: 0.1574 - accuracy: 0.9484 - val_loss: 0.5718 - val_accuracy: 0.9026\n",
      "Epoch 19/20\n",
      "131/131 [==============================] - 337s 3s/step - loss: 0.1485 - accuracy: 0.9489 - val_loss: 1.4849 - val_accuracy: 0.7746\n",
      "Epoch 20/20\n",
      "131/131 [==============================] - 337s 3s/step - loss: 0.1538 - accuracy: 0.9465 - val_loss: 0.4628 - val_accuracy: 0.8596\n"
     ]
    }
   ],
   "source": [
    "disease_model = model.fit(datagen.flow(X_train,Y_train), \n",
    "                          batch_size=32,\n",
    "                          epochs=20,\n",
    "                          validation_data=datagen.flow(X_test,Y_test)\n",
    "                          #callbacks = [EarlyStopping(monitor='val_accuracy', patience=5)]\n",
    "                         )"
   ]
  },
  {
   "cell_type": "code",
   "execution_count": 15,
   "metadata": {},
   "outputs": [
    {
     "data": {
      "image/png": "[encoded data removed]",
      "text/plain": [
       "<Figure size 432x288 with 1 Axes>"
      ]
     },
     "metadata": {
      "needs_background": "light"
     },
     "output_type": "display_data"
    }
   ],
   "source": [
    "plt.figure()\n",
    "plt.plot(disease_model.history['accuracy'], label='Training accuracy')\n",
    "plt.plot(disease_model.history['val_accuracy'], label='Validation accuracy')\n",
    "plt.title(\"Accuracy\")\n",
    "plt.xlabel(\"Epochs\")\n",
    "plt.ylabel(\"Accuracy\")                                                                                                  \n",
    "plt.show()"
   ]
  },
  {
   "cell_type": "code",
   "execution_count": 16,
   "metadata": {},
   "outputs": [
    {
     "data": {
      "image/png": "[encoded data removed]",
      "text/plain": [
       "<Figure size 432x288 with 1 Axes>"
      ]
     },
     "metadata": {
      "needs_background": "light"
     },
     "output_type": "display_data"
    }
   ],
   "source": [
    "plt.figure()\n",
    "plt.plot(disease_model.history['loss'], label='Training loss')\n",
    "plt.plot(disease_model.history['val_loss'], label='Validation loss')\n",
    "plt.title(\"Loss\")\n",
    "plt.xlabel(\"Epochs\")\n",
    "plt.ylabel(\"Loss\")\n",
    "plt.show()"
   ]
  },
  {
   "cell_type": "code",
   "execution_count": 17,
   "metadata": {},
   "outputs": [
    {
     "name": "stdout",
     "output_type": "stream",
     "text": [
      "WARNING:tensorflow:From <ipython-input-17-fdaaf2360398>:1: Sequential.predict_classes (from tensorflow.python.keras.engine.sequential) is deprecated and will be removed after 2021-01-01.\n",
      "Instructions for updating:\n",
      "Please use instead:* `np.argmax(model.predict(x), axis=-1)`,   if your model does multi-class classification   (e.g. if it uses a `softmax` last-layer activation).* `(model.predict(x) > 0.5).astype(\"int32\")`,   if your model does binary classification   (e.g. if it uses a `sigmoid` last-layer activation).\n"
     ]
    }
   ],
   "source": [
    "y_pred = model.predict_classes(X_test)"
   ]
  },
  {
   "cell_type": "code",
   "execution_count": 18,
   "metadata": {},
   "outputs": [
    {
     "data": {
      "text/plain": [
       "array([0, 0, 1, ..., 1, 1, 0])"
      ]
     },
     "execution_count": 18,
     "metadata": {},
     "output_type": "execute_result"
    }
   ],
   "source": [
    "y_pred = y_pred.reshape(1,-1)[0]\n",
    "y_pred"
   ]
  },
  {
   "cell_type": "code",
   "execution_count": 19,
   "metadata": {},
   "outputs": [],
   "source": [
    "from sklearn.metrics import accuracy_score"
   ]
  },
  {
   "cell_type": "code",
   "execution_count": 325,
   "metadata": {},
   "outputs": [
    {
     "data": {
      "text/plain": [
       "0.9226361031518625"
      ]
     },
     "execution_count": 325,
     "metadata": {},
     "output_type": "execute_result"
    }
   ],
   "source": [
    "accuracy_score(Y_test,y_pred)"
   ]
  },
  {
   "cell_type": "code",
   "execution_count": 21,
   "metadata": {},
   "outputs": [],
   "source": [
    "model.save('./model/PNP.h5')"
   ]
  },
  {
   "cell_type": "code",
   "execution_count": 25,
   "metadata": {},
   "outputs": [],
   "source": [
    "modelN = load_model('./model/PNP.h5')"
   ]
  },
  {
   "cell_type": "code",
   "execution_count": 26,
   "metadata": {},
   "outputs": [
    {
     "data": {
      "text/plain": [
       "array([[[[0.09411765],\n",
       "         [0.07058824],\n",
       "         [0.0627451 ],\n",
       "         ...,\n",
       "         [0.3647059 ],\n",
       "         [0.38039216],\n",
       "         [0.37254903]],\n",
       "\n",
       "        [[0.09411765],\n",
       "         [0.07843138],\n",
       "         [0.07058824],\n",
       "         ...,\n",
       "         [0.36862746],\n",
       "         [0.36862746],\n",
       "         [0.3647059 ]],\n",
       "\n",
       "        [[0.08235294],\n",
       "         [0.08235294],\n",
       "         [0.07450981],\n",
       "         ...,\n",
       "         [0.37254903],\n",
       "         [0.3529412 ],\n",
       "         [0.35686275]],\n",
       "\n",
       "        ...,\n",
       "\n",
       "        [[0.10588235],\n",
       "         [0.10980392],\n",
       "         [0.10196079],\n",
       "         ...,\n",
       "         [0.15294118],\n",
       "         [0.16078432],\n",
       "         [0.15686275]],\n",
       "\n",
       "        [[0.11372549],\n",
       "         [0.11372549],\n",
       "         [0.10980392],\n",
       "         ...,\n",
       "         [0.2627451 ],\n",
       "         [0.2509804 ],\n",
       "         [0.25490198]],\n",
       "\n",
       "        [[0.15294118],\n",
       "         [0.16078432],\n",
       "         [0.16862746],\n",
       "         ...,\n",
       "         [0.39215687],\n",
       "         [0.3882353 ],\n",
       "         [0.3882353 ]]],\n",
       "\n",
       "\n",
       "       [[[0.06666667],\n",
       "         [0.08627451],\n",
       "         [0.12156863],\n",
       "         ...,\n",
       "         [0.10980392],\n",
       "         [0.11764706],\n",
       "         [0.07843138]],\n",
       "\n",
       "        [[0.0627451 ],\n",
       "         [0.10980392],\n",
       "         [0.13725491],\n",
       "         ...,\n",
       "         [0.10588235],\n",
       "         [0.10588235],\n",
       "         [0.07450981]],\n",
       "\n",
       "        [[0.0627451 ],\n",
       "         [0.10588235],\n",
       "         [0.11764706],\n",
       "         ...,\n",
       "         [0.11372549],\n",
       "         [0.08627451],\n",
       "         [0.07058824]],\n",
       "\n",
       "        ...,\n",
       "\n",
       "        [[0.        ],\n",
       "         [0.        ],\n",
       "         [0.        ],\n",
       "         ...,\n",
       "         [0.        ],\n",
       "         [0.        ],\n",
       "         [0.        ]],\n",
       "\n",
       "        [[0.        ],\n",
       "         [0.        ],\n",
       "         [0.        ],\n",
       "         ...,\n",
       "         [0.        ],\n",
       "         [0.        ],\n",
       "         [0.        ]],\n",
       "\n",
       "        [[0.        ],\n",
       "         [0.        ],\n",
       "         [0.        ],\n",
       "         ...,\n",
       "         [0.        ],\n",
       "         [0.        ],\n",
       "         [0.        ]]],\n",
       "\n",
       "\n",
       "       [[[0.        ],\n",
       "         [0.        ],\n",
       "         [0.05098039],\n",
       "         ...,\n",
       "         [0.10980392],\n",
       "         [0.05098039],\n",
       "         [0.        ]],\n",
       "\n",
       "        [[0.        ],\n",
       "         [0.        ],\n",
       "         [0.00392157],\n",
       "         ...,\n",
       "         [0.10196079],\n",
       "         [0.        ],\n",
       "         [0.        ]],\n",
       "\n",
       "        [[0.        ],\n",
       "         [0.        ],\n",
       "         [0.        ],\n",
       "         ...,\n",
       "         [0.10588235],\n",
       "         [0.        ],\n",
       "         [0.        ]],\n",
       "\n",
       "        ...,\n",
       "\n",
       "        [[0.        ],\n",
       "         [0.        ],\n",
       "         [0.        ],\n",
       "         ...,\n",
       "         [0.        ],\n",
       "         [0.        ],\n",
       "         [0.        ]],\n",
       "\n",
       "        [[0.        ],\n",
       "         [0.        ],\n",
       "         [0.        ],\n",
       "         ...,\n",
       "         [0.        ],\n",
       "         [0.        ],\n",
       "         [0.00784314]],\n",
       "\n",
       "        [[0.        ],\n",
       "         [0.        ],\n",
       "         [0.        ],\n",
       "         ...,\n",
       "         [0.        ],\n",
       "         [0.        ],\n",
       "         [0.00392157]]],\n",
       "\n",
       "\n",
       "       ...,\n",
       "\n",
       "\n",
       "       [[[0.10196079],\n",
       "         [0.09019608],\n",
       "         [0.05882353],\n",
       "         ...,\n",
       "         [0.0627451 ],\n",
       "         [0.03529412],\n",
       "         [0.03137255]],\n",
       "\n",
       "        [[0.10980392],\n",
       "         [0.10196079],\n",
       "         [0.09803922],\n",
       "         ...,\n",
       "         [0.20392157],\n",
       "         [0.16078432],\n",
       "         [0.13333334]],\n",
       "\n",
       "        [[0.11764706],\n",
       "         [0.10980392],\n",
       "         [0.10980392],\n",
       "         ...,\n",
       "         [0.14117648],\n",
       "         [0.19607843],\n",
       "         [0.19215687]],\n",
       "\n",
       "        ...,\n",
       "\n",
       "        [[0.03921569],\n",
       "         [0.03137255],\n",
       "         [0.01176471],\n",
       "         ...,\n",
       "         [0.18431373],\n",
       "         [0.14901961],\n",
       "         [0.02352941]],\n",
       "\n",
       "        [[0.02745098],\n",
       "         [0.03137255],\n",
       "         [0.01960784],\n",
       "         ...,\n",
       "         [0.20392157],\n",
       "         [0.13333334],\n",
       "         [0.05098039]],\n",
       "\n",
       "        [[0.03529412],\n",
       "         [0.03137255],\n",
       "         [0.02745098],\n",
       "         ...,\n",
       "         [0.17254902],\n",
       "         [0.15686275],\n",
       "         [0.05490196]]],\n",
       "\n",
       "\n",
       "       [[[0.10980392],\n",
       "         [0.14117648],\n",
       "         [0.16862746],\n",
       "         ...,\n",
       "         [0.2509804 ],\n",
       "         [0.2509804 ],\n",
       "         [0.26666668]],\n",
       "\n",
       "        [[0.13725491],\n",
       "         [0.17254902],\n",
       "         [0.15294118],\n",
       "         ...,\n",
       "         [0.2627451 ],\n",
       "         [0.25882354],\n",
       "         [0.26666668]],\n",
       "\n",
       "        [[0.16862746],\n",
       "         [0.22352941],\n",
       "         [0.20784314],\n",
       "         ...,\n",
       "         [0.26666668],\n",
       "         [0.27450982],\n",
       "         [0.27450982]],\n",
       "\n",
       "        ...,\n",
       "\n",
       "        [[0.07843138],\n",
       "         [0.08235294],\n",
       "         [0.07843138],\n",
       "         ...,\n",
       "         [0.10196079],\n",
       "         [0.10588235],\n",
       "         [0.10980392]],\n",
       "\n",
       "        [[0.08235294],\n",
       "         [0.08235294],\n",
       "         [0.07843138],\n",
       "         ...,\n",
       "         [0.10196079],\n",
       "         [0.10196079],\n",
       "         [0.10588235]],\n",
       "\n",
       "        [[0.08235294],\n",
       "         [0.08235294],\n",
       "         [0.07843138],\n",
       "         ...,\n",
       "         [0.09019608],\n",
       "         [0.09411765],\n",
       "         [0.09803922]]],\n",
       "\n",
       "\n",
       "       [[[0.05490196],\n",
       "         [0.05490196],\n",
       "         [0.02745098],\n",
       "         ...,\n",
       "         [0.09411765],\n",
       "         [0.12941177],\n",
       "         [0.21176471]],\n",
       "\n",
       "        [[0.01568628],\n",
       "         [0.05490196],\n",
       "         [0.03137255],\n",
       "         ...,\n",
       "         [0.09803922],\n",
       "         [0.10196079],\n",
       "         [0.14117648]],\n",
       "\n",
       "        [[0.01960784],\n",
       "         [0.03529412],\n",
       "         [0.04313726],\n",
       "         ...,\n",
       "         [0.07843138],\n",
       "         [0.10196079],\n",
       "         [0.11372549]],\n",
       "\n",
       "        ...,\n",
       "\n",
       "        [[0.        ],\n",
       "         [0.02352941],\n",
       "         [0.00784314],\n",
       "         ...,\n",
       "         [0.05490196],\n",
       "         [0.05882353],\n",
       "         [0.        ]],\n",
       "\n",
       "        [[0.01960784],\n",
       "         [0.01960784],\n",
       "         [0.01176471],\n",
       "         ...,\n",
       "         [0.04705882],\n",
       "         [0.05098039],\n",
       "         [0.03137255]],\n",
       "\n",
       "        [[0.03137255],\n",
       "         [0.01960784],\n",
       "         [0.00784314],\n",
       "         ...,\n",
       "         [0.04705882],\n",
       "         [0.05098039],\n",
       "         [0.04705882]]]], dtype=float32)"
      ]
     },
     "execution_count": 26,
     "metadata": {},
     "output_type": "execute_result"
    }
   ],
   "source": [
    "trainXdata"
   ]
  },
  {
   "cell_type": "code",
   "execution_count": 27,
   "metadata": {},
   "outputs": [
    {
     "data": {
      "text/plain": [
       "array([0, 0, 0, ..., 1, 1, 1])"
      ]
     },
     "execution_count": 27,
     "metadata": {},
     "output_type": "execute_result"
    }
   ],
   "source": [
    "trainYdata"
   ]
  },
  {
   "cell_type": "code",
   "execution_count": null,
   "metadata": {},
   "outputs": [],
   "source": []
  }
 ],
 "metadata": {
  "kernelspec": {
   "display_name": "Python 3.7.4 64-bit ('base': conda)",
   "language": "python",
   "name": "python37464bitbasecondaa573941c101e496e993423501ebafa10"
  },
  "language_info": {
   "codemirror_mode": {
    "name": "ipython",
    "version": 3
   },
   "file_extension": ".py",
   "mimetype": "text/x-python",
   "name": "python",
   "nbconvert_exporter": "python",
   "pygments_lexer": "ipython3",
   "version": "3.7.4"
  }
 },
 "nbformat": 4,
 "nbformat_minor": 2
}
